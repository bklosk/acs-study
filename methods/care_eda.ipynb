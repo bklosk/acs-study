{
 "cells": [
  {
   "cell_type": "code",
   "execution_count": 3,
   "metadata": {},
   "outputs": [
    {
     "name": "stdout",
     "output_type": "stream",
     "text": [
      "Keys established.\n"
     ]
    }
   ],
   "source": [
    "# import necessary libraries\n",
    "import pandas as pd\n",
    "import sys\n",
    "import os\n",
    "\n",
    "sys.path.append(\"/workspaces/acs-study/data\")\n",
    "#goin AWS mode rn\n",
    "import boto3  #interface with S3 my beloved\n",
    "b3_key = os.environ['S3_READONLY_KEY']  #my secrets, not for you\n",
    "b3_s = os.environ['S3_READONLY_SECRET']\n",
    "print('Keys established.')"
   ]
  },
  {
   "cell_type": "code",
   "execution_count": 5,
   "metadata": {},
   "outputs": [
    {
     "name": "stdout",
     "output_type": "stream",
     "text": [
      "Connection to S3 established.\n",
      ".csv loaded in memory\n"
     ]
    }
   ],
   "source": [
    "s3_client = boto3.client('s3', aws_access_key_id=b3_key, aws_secret_access_key=b3_s)  #accessing my S3 bucket\n",
    "print('Connection to S3 established.')\n",
    "bucket_name = 'acs-study'\n",
    "object_key = 'data/chicago/crimes.csv'\n",
    "\n",
    "csv_object = s3_client.get_object(Bucket=bucket_name, Key=object_key)\n",
    "print('.csv loaded in memory')\n",
    "csv_string = csv_object['Body'].read().decode('utf-8')"
   ]
  },
  {
   "cell_type": "code",
   "execution_count": 6,
   "metadata": {},
   "outputs": [],
   "source": [
    "df = pd.read_csv(csv_string, engine='pyarrow')  #this takes 3+ minutes since we're dealing with >1.5 million rows"
   ]
  },
  {
   "cell_type": "code",
   "execution_count": null,
   "metadata": {},
   "outputs": [],
   "source": [
    "df.head()"
   ]
  }
 ],
 "metadata": {
  "kernelspec": {
   "display_name": "Python 3",
   "language": "python",
   "name": "python3"
  },
  "language_info": {
   "codemirror_mode": {
    "name": "ipython",
    "version": 3
   },
   "file_extension": ".py",
   "mimetype": "text/x-python",
   "name": "python",
   "nbconvert_exporter": "python",
   "pygments_lexer": "ipython3",
   "version": "3.10.8"
  }
 },
 "nbformat": 4,
 "nbformat_minor": 2
}
