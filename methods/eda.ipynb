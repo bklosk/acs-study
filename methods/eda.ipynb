{
 "cells": [
  {
   "cell_type": "code",
   "execution_count": 1,
   "metadata": {},
   "outputs": [],
   "source": [
    "import json\n",
    "import pandas as pd\n",
    "import sys\n",
    "sys.path.append(\"/workspaces/acs-study/data\")\n",
    "import folium"
   ]
  },
  {
   "cell_type": "code",
   "execution_count": 2,
   "metadata": {},
   "outputs": [],
   "source": [
    "with open('/workspaces/acs-study/data/180_inc.json', 'r') as raw_data:\n",
    "    data = json.load(raw_data)\n",
    "\n",
    "# for item in data['features']:\n",
    "#     print(item)\n",
    "#     break\n",
    "\n",
    "incidents = [] \n",
    "for item in data['features']:\n",
    "    incident = []\n",
    "    for attr in ['OBJECTID', 'BlockAddress', 'IncidentType', 'ReportDateTime']:\n",
    "        incident.append(item['attributes'][attr])\n",
    "    try:\n",
    "        incident.append(item['geometry']['x'])\n",
    "        incident.append(item['geometry']['y'])\n",
    "    except:\n",
    "        incident.append('0')\n",
    "        incident.append('0')\n",
    "    incidents.append(incident)\n",
    "    \n",
    "df = pd.DataFrame(incidents)\n",
    "df.columns = ['OBJECTID', 'BlockAddress', 'IncidentType', 'ReportDateTime', 'x', 'y']\n",
    "df['x'] = df['x'].astype(float)\n",
    "df['y'] = df['y'].astype(float)"
   ]
  },
  {
   "cell_type": "code",
   "execution_count": 3,
   "metadata": {},
   "outputs": [
    {
     "data": {
      "text/plain": [
       "(30000, 6)"
      ]
     },
     "execution_count": 3,
     "metadata": {},
     "output_type": "execute_result"
    }
   ],
   "source": [
    "df.shape"
   ]
  }
 ],
 "metadata": {
  "kernelspec": {
   "display_name": "Python 3",
   "language": "python",
   "name": "python3"
  },
  "language_info": {
   "codemirror_mode": {
    "name": "ipython",
    "version": 3
   },
   "file_extension": ".py",
   "mimetype": "text/x-python",
   "name": "python",
   "nbconvert_exporter": "python",
   "pygments_lexer": "ipython3",
   "version": "3.10.8"
  },
  "orig_nbformat": 4
 },
 "nbformat": 4,
 "nbformat_minor": 2
}
